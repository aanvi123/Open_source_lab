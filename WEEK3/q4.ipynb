{
 "cells": [
  {
   "cell_type": "code",
   "execution_count": 1,
   "id": "495ae99e",
   "metadata": {},
   "outputs": [
    {
     "name": "stdout",
     "output_type": "stream",
     "text": [
      "Letter combinations for '23': ['dg', 'dh', 'di', 'eg', 'eh', 'ei', 'fg', 'fh', 'fi']\n"
     ]
    }
   ],
   "source": [
    "string_maps = {\n",
    "    \"1\": \"abc\", \"2\": \"def\", \"3\": \"ghi\", \"4\": \"jkl\",\n",
    "    \"5\": \"mno\", \"6\": \"pqrs\", \"7\": \"tuv\", \"8\": \"wxy\", \"9\": \"z\"\n",
    "}\n",
    "\n",
    "def letter_combinations(digits):\n",
    "\n",
    "    if len(digits) != 2:\n",
    "        return []\n",
    "    first = string_maps[digits[0]]\n",
    "    second = string_maps[digits[1]]\n",
    "    return [f + s for f in first for s in second]\n",
    "\n",
    "\n",
    "print(\"Letter combinations for '23':\", letter_combinations(\"23\"))\n"
   ]
  }
 ],
 "metadata": {
  "kernelspec": {
   "display_name": "base",
   "language": "python",
   "name": "python3"
  },
  "language_info": {
   "codemirror_mode": {
    "name": "ipython",
    "version": 3
   },
   "file_extension": ".py",
   "mimetype": "text/x-python",
   "name": "python",
   "nbconvert_exporter": "python",
   "pygments_lexer": "ipython3",
   "version": "3.13.5"
  }
 },
 "nbformat": 4,
 "nbformat_minor": 5
}
