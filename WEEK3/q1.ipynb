{
 "cells": [
  {
   "cell_type": "code",
   "execution_count": 2,
   "id": "00d8422a",
   "metadata": {},
   "outputs": [
    {
     "name": "stdout",
     "output_type": "stream",
     "text": [
      "original dictionary:  {'a': 1, 'b': 2, 'c': 3}\n",
      "duplicate dictionary: {1: 'a', 2: 'b', 3: 'c'}\n"
     ]
    }
   ],
   "source": [
    "\n",
    "def invertdict(d):\n",
    " return {v: k for k, v in d.items()}\n",
    " \n",
    "data={\"a\":1,\"b\":2,\"c\":3}\n",
    "inverted=invertdict(data)\n",
    "print(\"original dictionary: \",data)\n",
    "print(\"duplicate dictionary:\",inverted)"
   ]
  }
 ],
 "metadata": {
  "kernelspec": {
   "display_name": "base",
   "language": "python",
   "name": "python3"
  },
  "language_info": {
   "codemirror_mode": {
    "name": "ipython",
    "version": 3
   },
   "file_extension": ".py",
   "mimetype": "text/x-python",
   "name": "python",
   "nbconvert_exporter": "python",
   "pygments_lexer": "ipython3",
   "version": "3.13.5"
  }
 },
 "nbformat": 4,
 "nbformat_minor": 5
}
