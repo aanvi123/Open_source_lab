{
 "cells": [
  {
   "cell_type": "code",
   "execution_count": 1,
   "id": "171bc941",
   "metadata": {},
   "outputs": [
    {
     "name": "stdout",
     "output_type": "stream",
     "text": [
      "Original list: [10, 20, 5, 8, 70, 2]\n",
      "3 largest elements: [70, 20, 10]\n"
     ]
    }
   ],
   "source": [
    "def n_largest(lst, N):\n",
    "   \n",
    "    return sorted(lst, reverse=True)[:N]\n",
    "\n",
    "numbers = [10, 20, 5, 8, 70, 2]\n",
    "largest_three = n_largest(numbers, 3)\n",
    "print(\"Original list:\", numbers)\n",
    "print(\"3 largest elements:\", largest_three)\n"
   ]
  }
 ],
 "metadata": {
  "kernelspec": {
   "display_name": "base",
   "language": "python",
   "name": "python3"
  },
  "language_info": {
   "codemirror_mode": {
    "name": "ipython",
    "version": 3
   },
   "file_extension": ".py",
   "mimetype": "text/x-python",
   "name": "python",
   "nbconvert_exporter": "python",
   "pygments_lexer": "ipython3",
   "version": "3.13.5"
  }
 },
 "nbformat": 4,
 "nbformat_minor": 5
}
