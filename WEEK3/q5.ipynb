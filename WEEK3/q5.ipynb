{
 "cells": [
  {
   "cell_type": "code",
   "execution_count": 1,
   "id": "fc66fe0d",
   "metadata": {},
   "outputs": [
    {
     "name": "stdout",
     "output_type": "stream",
     "text": [
      "Number of islands: 4\n"
     ]
    }
   ],
   "source": [
    "def num_islands(grid):\n",
    "\n",
    "    rows, cols = len(grid), len(grid[0])\n",
    "    visited = [[False] * cols for _ in range(rows)]\n",
    "    \n",
    "    def dfs(r, c):\n",
    "        # Boundary check\n",
    "        if r < 0 or c < 0 or r >= rows or c >= cols:\n",
    "            return\n",
    "        # Already visited or water\n",
    "        if visited[r][c] or grid[r][c] == '0':\n",
    "            return\n",
    "        visited[r][c] = True\n",
    "        # Visit neighbors (up, down, left, right)\n",
    "        dfs(r+1, c)\n",
    "        dfs(r-1, c)\n",
    "        dfs(r, c+1)\n",
    "        dfs(r, c-1)\n",
    "    \n",
    "    count = 0\n",
    "    for r in range(rows):\n",
    "        for c in range(cols):\n",
    "            if grid[r][c] == '1' and not visited[r][c]:\n",
    "                dfs(r, c)\n",
    "                count += 1\n",
    "    return count\n",
    "\n",
    "\n",
    "grid = [\n",
    "    list(\"1100000011\"),\n",
    "    list(\"1100000011\"),\n",
    "    list(\"0011100000\"),\n",
    "    list(\"0000100000\"),\n",
    "    list(\"0000111000\"),\n",
    "    list(\"0000001000\"),\n",
    "    list(\"0000000000\"),\n",
    "    list(\"1110000000\"),\n",
    "    list(\"1010000000\"),\n",
    "    list(\"1110000000\")\n",
    "]\n",
    "print(\"Number of islands:\", num_islands(grid))\n"
   ]
  }
 ],
 "metadata": {
  "kernelspec": {
   "display_name": "base",
   "language": "python",
   "name": "python3"
  },
  "language_info": {
   "codemirror_mode": {
    "name": "ipython",
    "version": 3
   },
   "file_extension": ".py",
   "mimetype": "text/x-python",
   "name": "python",
   "nbconvert_exporter": "python",
   "pygments_lexer": "ipython3",
   "version": "3.13.5"
  }
 },
 "nbformat": 4,
 "nbformat_minor": 5
}
