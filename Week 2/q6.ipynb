{
 "cells": [
  {
   "cell_type": "code",
   "execution_count": 3,
   "id": "ec4d00ca",
   "metadata": {},
   "outputs": [
    {
     "name": "stdout",
     "output_type": "stream",
     "text": [
      "reversed text :  dlrow olleH\n"
     ]
    }
   ],
   "source": [
    "text=\"Hello world \"\n",
    "reversed_text=text[::-1]\n",
    "print(\"reversed text :\", reversed_text)"
   ]
  }
 ],
 "metadata": {
  "kernelspec": {
   "display_name": "base",
   "language": "python",
   "name": "python3"
  },
  "language_info": {
   "codemirror_mode": {
    "name": "ipython",
    "version": 3
   },
   "file_extension": ".py",
   "mimetype": "text/x-python",
   "name": "python",
   "nbconvert_exporter": "python",
   "pygments_lexer": "ipython3",
   "version": "3.13.5"
  }
 },
 "nbformat": 4,
 "nbformat_minor": 5
}
