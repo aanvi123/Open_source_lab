{
 "cells": [
  {
   "cell_type": "code",
   "execution_count": 2,
   "id": "3114a311",
   "metadata": {},
   "outputs": [
    {
     "name": "stdout",
     "output_type": "stream",
     "text": [
      "Anagrams: ['eat', 'tea', 'ate']\n",
      "Anagrams: ['bat', 'tab']\n",
      "Anagrams: ['tan', 'ant']\n"
     ]
    }
   ],
   "source": [
    "from collections import defaultdict\n",
    "\n",
    "words = [\"eat\", \"tea\", \"ate\", \"bat\", \"tab\", \"tan\", \"ant\"]\n",
    "anagram_groups = defaultdict(list)\n",
    "\n",
    "for word in words:\n",
    "    sorted_word = ''.join(sorted(word))\n",
    "    anagram_groups[sorted_word].append(word)\n",
    "\n",
    "for group in anagram_groups.values():\n",
    "    if len(group) > 1:\n",
    "          print(\"Anagrams:\", group)"
   ]
  }
 ],
 "metadata": {
  "kernelspec": {
   "display_name": "base",
   "language": "python",
   "name": "python3"
  },
  "language_info": {
   "codemirror_mode": {
    "name": "ipython",
    "version": 3
   },
   "file_extension": ".py",
   "mimetype": "text/x-python",
   "name": "python",
   "nbconvert_exporter": "python",
   "pygments_lexer": "ipython3",
   "version": "3.13.5"
  }
 },
 "nbformat": 4,
 "nbformat_minor": 5
}
