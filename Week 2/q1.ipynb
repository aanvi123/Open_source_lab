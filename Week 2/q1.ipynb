{
 "cells": [
  {
   "cell_type": "code",
   "execution_count": 1,
   "id": "f0de4ebc",
   "metadata": {},
   "outputs": [
    {
     "name": "stdout",
     "output_type": "stream",
     "text": [
      "Jupyter is working in VS Code! 🎉\n"
     ]
    }
   ],
   "source": [
    "print(\"Jupyter is working in VS Code! 🎉\")"
   ]
  },
  {
   "cell_type": "code",
   "execution_count": 3,
   "id": "9a3a86eb",
   "metadata": {},
   "outputs": [
    {
     "name": "stdout",
     "output_type": "stream",
     "text": [
      "Second name is : bro\n"
     ]
    }
   ],
   "source": [
    "print(\"Second name is :\",friends[1])"
   ]
  },
  {
   "cell_type": "code",
   "execution_count": null,
   "id": "644830fd",
   "metadata": {},
   "outputs": [
    {
     "name": "stdout",
     "output_type": "stream",
     "text": [
      " First name :  aarav\n",
      "Second name is : bro\n",
      "last name : deenim\n",
      "name from 3 to 5 is : ['silky', 'choti', 'mayra']\n",
      "Name in reverse order is  : ['deenim', 'mehra', 'sonam', 'bhvishya', 'mayra', 'choti', 'silky', 'aanvi', 'bro', 'aarav']\n",
      "Names from 8th to 3rd are (reversed): ['mehra', 'sonam', 'bhvishya', 'mayra', 'choti', 'silky']\n"
     ]
    }
   ],
   "source": [
    "friends =[\"aarav\",\"bro\",\"aanvi\",\"silky\",\"choti\",\"mayra\",\"bhvishya\",\"sonam\",\"mehra\",\"deenim\"]\n",
    "print(\" First name : \",friends[0])\n",
    "print(\"Second name is :\",friends[1])\n",
    "print(\"last name :\",friends[-1])\n",
    "print(\"name from 3 to 5 is :\", friends[3:6])\n",
    "print(\"Name in reverse order is  :\",friends[::-1])\n",
    "print(\"Names from 8th to 3rd are (reversed):\",friends[8:2:-1])"
   ]
  }
 ],
 "metadata": {
  "kernelspec": {
   "display_name": "base",
   "language": "python",
   "name": "python3"
  },
  "language_info": {
   "codemirror_mode": {
    "name": "ipython",
    "version": 3
   },
   "file_extension": ".py",
   "mimetype": "text/x-python",
   "name": "python",
   "nbconvert_exporter": "python",
   "pygments_lexer": "ipython3",
   "version": "3.13.5"
  }
 },
 "nbformat": 4,
 "nbformat_minor": 5
}
