{
 "cells": [
  {
   "cell_type": "code",
   "execution_count": 4,
   "id": "52c48a10",
   "metadata": {},
   "outputs": [
    {
     "name": "stdout",
     "output_type": "stream",
     "text": [
      "No of character is : 36\n"
     ]
    }
   ],
   "source": [
    "with open(\"sample.text\", \"r\") as file:\n",
    "    content=file.read()\n",
    "    print(\"No of character is :\", len(content))"
   ]
  }
 ],
 "metadata": {
  "kernelspec": {
   "display_name": "base",
   "language": "python",
   "name": "python3"
  },
  "language_info": {
   "codemirror_mode": {
    "name": "ipython",
    "version": 3
   },
   "file_extension": ".py",
   "mimetype": "text/x-python",
   "name": "python",
   "nbconvert_exporter": "python",
   "pygments_lexer": "ipython3",
   "version": "3.13.5"
  }
 },
 "nbformat": 4,
 "nbformat_minor": 5
}
