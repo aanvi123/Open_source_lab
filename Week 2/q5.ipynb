{
 "cells": [
  {
   "cell_type": "code",
   "execution_count": 5,
   "id": "74a50700",
   "metadata": {},
   "outputs": [
    {
     "name": "stdout",
     "output_type": "stream",
     "text": [
      "Duplicates [12]\n",
      "Duplicates [12, 7]\n",
      "Duplicates [12, 7, 6]\n"
     ]
    }
   ],
   "source": [
    "nums=[12,7,6,5,7,12,12,59,6,3]\n",
    "duplicates=[]\n",
    "for num in nums:\n",
    "    if nums.count(num)>1 and num not in duplicates:\n",
    "        duplicates.append(num)\n",
    "\n",
    "        print(\"Duplicates\", duplicates)"
   ]
  }
 ],
 "metadata": {
  "kernelspec": {
   "display_name": "base",
   "language": "python",
   "name": "python3"
  },
  "language_info": {
   "codemirror_mode": {
    "name": "ipython",
    "version": 3
   },
   "file_extension": ".py",
   "mimetype": "text/x-python",
   "name": "python",
   "nbconvert_exporter": "python",
   "pygments_lexer": "ipython3",
   "version": "3.13.5"
  }
 },
 "nbformat": 4,
 "nbformat_minor": 5
}
