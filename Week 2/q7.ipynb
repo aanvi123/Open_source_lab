{
 "cells": [
  {
   "cell_type": "code",
   "execution_count": 1,
   "id": "5a62d2b3",
   "metadata": {},
   "outputs": [
    {
     "name": "stdout",
     "output_type": "stream",
     "text": [
      "fibonacci till 5th term [0, 1, 1]\n",
      "fibonacci till 5th term [0, 1, 1, 2]\n",
      "fibonacci till 5th term [0, 1, 1, 2, 3]\n"
     ]
    }
   ],
   "source": [
    "n=5\n",
    "fib=[0,1]\n",
    "for i in range(2,n):\n",
    "    nextterm=fib[i-1]+fib[i-2]\n",
    "    fib.append(nextterm)\n",
    "\n",
    "    print(\"fibonacci till 5th term\",fib)"
   ]
  }
 ],
 "metadata": {
  "kernelspec": {
   "display_name": "base",
   "language": "python",
   "name": "python3"
  },
  "language_info": {
   "codemirror_mode": {
    "name": "ipython",
    "version": 3
   },
   "file_extension": ".py",
   "mimetype": "text/x-python",
   "name": "python",
   "nbconvert_exporter": "python",
   "pygments_lexer": "ipython3",
   "version": "3.13.5"
  }
 },
 "nbformat": 4,
 "nbformat_minor": 5
}
