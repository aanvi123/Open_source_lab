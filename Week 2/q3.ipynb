{
 "cells": [
  {
   "cell_type": "code",
   "execution_count": 12,
   "id": "226775cf",
   "metadata": {},
   "outputs": [
    {
     "name": "stdout",
     "output_type": "stream",
     "text": [
      "Students with age > 20:\n",
      "Rohit - 22\n",
      "Manav - 25\n",
      "After adding bhav: {'Aanya': 19, 'Rohit': 22, 'Isha': 18, 'Manav': 25, 'Sneha': 20, 'bhav': 30}\n",
      "All students :\n",
      "Aanya - 19\n",
      "Rohit - 22\n",
      "Isha - 18\n",
      "Manav - 25\n",
      "Sneha - 20\n",
      "bhav - 30\n",
      "After delete : {'Aanya': 19, 'Isha': 18, 'Manav': 25, 'Sneha': 20, 'bhav': 30}\n",
      "Average is :  22.4\n"
     ]
    }
   ],
   "source": [
    "students={\n",
    "    \"Aanya\": 19,\n",
    "    \"Rohit\": 22,\n",
    "    \"Isha\": 18,\n",
    "    \"Manav\": 25,\n",
    "    \"Sneha\": 20\n",
    "}\n",
    "\n",
    "# a. Students with age > 20\n",
    "print(\"Students with age > 20:\")\n",
    "for name, age in students.items():\n",
    "    if age > 20:\n",
    "        print(name, \"-\", age)\n",
    "\n",
    "# b. Add new student after loop ends\n",
    "students[\"bhav\"] = 30\n",
    "print(\"After adding bhav:\", students)\n",
    "\n",
    "# c.using items\n",
    "print(\"All students :\")\n",
    "for name,age in students.items():\n",
    "    print(name , \"-\", age)\n",
    "\n",
    "# d. delete a student\n",
    "del students[\"Rohit\"]\n",
    "print(\"After delete :\",students)\n",
    "\n",
    "# e . average\n",
    "average = sum(students.values())/len(students)\n",
    "print(\"Average is : \", average)\n"
   ]
  }
 ],
 "metadata": {
  "kernelspec": {
   "display_name": "base",
   "language": "python",
   "name": "python3"
  },
  "language_info": {
   "codemirror_mode": {
    "name": "ipython",
    "version": 3
   },
   "file_extension": ".py",
   "mimetype": "text/x-python",
   "name": "python",
   "nbconvert_exporter": "python",
   "pygments_lexer": "ipython3",
   "version": "3.13.5"
  }
 },
 "nbformat": 4,
 "nbformat_minor": 5
}
