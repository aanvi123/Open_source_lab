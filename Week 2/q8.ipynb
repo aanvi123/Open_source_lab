{
 "cells": [
  {
   "cell_type": "code",
   "execution_count": 8,
   "id": "8d660270",
   "metadata": {},
   "outputs": [
    {
     "name": "stdout",
     "output_type": "stream",
     "text": [
      "File updated successfilly\n"
     ]
    }
   ],
   "source": [
    "with open(\"sample.text\",\"w\") as file:\n",
    " file.write(\"Hii, i m pursuing degree from jaypee\")\n",
    "\n",
    "print(\"File updated successfilly\")\n"
   ]
  }
 ],
 "metadata": {
  "kernelspec": {
   "display_name": "base",
   "language": "python",
   "name": "python3"
  },
  "language_info": {
   "codemirror_mode": {
    "name": "ipython",
    "version": 3
   },
   "file_extension": ".py",
   "mimetype": "text/x-python",
   "name": "python",
   "nbconvert_exporter": "python",
   "pygments_lexer": "ipython3",
   "version": "3.13.5"
  }
 },
 "nbformat": 4,
 "nbformat_minor": 5
}
