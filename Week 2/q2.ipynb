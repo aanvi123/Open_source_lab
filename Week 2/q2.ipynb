{
 "cells": [
  {
   "cell_type": "code",
   "execution_count": 11,
   "id": "9b081b37",
   "metadata": {},
   "outputs": [
    {
     "name": "stdout",
     "output_type": "stream",
     "text": [
      "('ram', 'shyam', 'mohan', 'rohan', 'sohan')\n",
      "('ram', 'shyam', 'mohan', 'rohan', 'sohan', 'kanha')\n",
      "('ram', 'shyam', 'mohan', 'rohan', 'sohan')\n",
      "Students from 1 to 3 ('shyam', 'mohan', 'rohan')\n",
      "❌ Error: 'tuple' object does not support item assignment\n"
     ]
    }
   ],
   "source": [
    "students=(\"ram\",\"shyam\",\"mohan\",\"rohan\",\"sohan\")\n",
    "# a\n",
    "print(students)\n",
    "\n",
    "# b\n",
    "students = students +(\"kanha\",)\n",
    "print(students)\n",
    "\n",
    "#c\n",
    "\n",
    "temp=list(students)\n",
    "temp.remove(\"kanha\")\n",
    "students=tuple(temp)\n",
    "print( students)\n",
    "\n",
    "# d\n",
    "\n",
    "print(\"Students from 1 to 3\",students[1:4])\n",
    "\n",
    "# e\n",
    "try:\n",
    "    students[2] = \"Newname\"\n",
    "except TypeError as e:\n",
    "    print(\"❌ Error:\", e)"
   ]
  }
 ],
 "metadata": {
  "kernelspec": {
   "display_name": "base",
   "language": "python",
   "name": "python3"
  },
  "language_info": {
   "codemirror_mode": {
    "name": "ipython",
    "version": 3
   },
   "file_extension": ".py",
   "mimetype": "text/x-python",
   "name": "python",
   "nbconvert_exporter": "python",
   "pygments_lexer": "ipython3",
   "version": "3.13.5"
  }
 },
 "nbformat": 4,
 "nbformat_minor": 5
}
