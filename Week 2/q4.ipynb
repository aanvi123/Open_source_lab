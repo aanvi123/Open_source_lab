{
 "cells": [
  {
   "cell_type": "code",
   "execution_count": 1,
   "id": "921a4775",
   "metadata": {},
   "outputs": [
    {
     "name": "stdout",
     "output_type": "stream",
     "text": [
      "Even numbers in list\n",
      "12\n",
      "8\n",
      "54\n",
      "88\n"
     ]
    }
   ],
   "source": [
    "numbers=[12,7,9,8,67,54,99,73,88]\n",
    "print(\"Even numbers in list\")\n",
    "for num in numbers:\n",
    "    if num%2==0:\n",
    "        print(num)"
   ]
  }
 ],
 "metadata": {
  "kernelspec": {
   "display_name": "base",
   "language": "python",
   "name": "python3"
  },
  "language_info": {
   "codemirror_mode": {
    "name": "ipython",
    "version": 3
   },
   "file_extension": ".py",
   "mimetype": "text/x-python",
   "name": "python",
   "nbconvert_exporter": "python",
   "pygments_lexer": "ipython3",
   "version": "3.13.5"
  }
 },
 "nbformat": 4,
 "nbformat_minor": 5
}
